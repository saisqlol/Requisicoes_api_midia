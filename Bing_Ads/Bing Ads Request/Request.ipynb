{
 "cells": [
  {
   "cell_type": "code",
   "execution_count": 1,
   "metadata": {},
   "outputs": [],
   "source": [
    "import requests \n",
    "import pandas as pd\n",
    "import webbrowser\n",
    "from bs4 import BeautifulSoup"
   ]
  },
  {
   "cell_type": "markdown",
   "metadata": {},
   "source": [
    "### Dados de acesso - Aplicativo (Acess Token)"
   ]
  },
  {
   "cell_type": "code",
   "execution_count": null,
   "metadata": {},
   "outputs": [],
   "source": [
    "Application_client_id = ''\n",
    "Client_secret_value = ''    \n",
    " "
   ]
  },
  {
   "cell_type": "markdown",
   "metadata": {},
   "source": [
    "### Pegar Acess Token e Refresh Token - Primeira vez"
   ]
  },
  {
   "cell_type": "code",
   "execution_count": null,
   "metadata": {},
   "outputs": [],
   "source": [
    "\n",
    "# Substitua pelos valores corretos do client_id e client_secret\n",
    "client_id = Application_client_id\n",
    "client_secret = Client_secret_value\n",
    "redirect_uri = \"https://login.microsoftonline.com/common/oauth2/nativeclient\"\n",
    "scope = \"openid profile https://ads.microsoft.com/msads.manage offline_access\"\n",
    "\n",
    "# Abre o navegador para solicitar permissão ao usuário\n",
    "authorization_url = (\n",
    "    f\"https://login.microsoftonline.com/common/oauth2/v2.0/authorize\"\n",
    "    f\"?client_id={client_id}&scope={scope.replace(' ', '%20')}&response_type=code&\"\n",
    "    f\"redirect_uri={redirect_uri}&state=12345&prompt=login\"\n",
    ")\n",
    "webbrowser.open(authorization_url)\n",
    "\n",
    "# Captura o código de autorização do URI de resposta\n",
    "code = input(\"Após conceder permissão, insira o código de autorização aqui: \")\n",
    "\n",
    "# Verifica se o código foi obtido corretamente\n",
    "if not code:\n",
    "    print(\"Erro: código de autorização não encontrado. Verifique o URI inserido.\")\n",
    "    exit()\n",
    "\n",
    "# Solicita os tokens de acesso e atualização\n",
    "token_url = \"https://login.microsoftonline.com/common/oauth2/v2.0/token\"\n",
    "token_data = {\n",
    "    \"client_id\": client_id,\n",
    "    \"client_secret\": client_secret,\n",
    "    \"scope\": scope,\n",
    "    \"code\": code,\n",
    "    \"grant_type\": \"authorization_code\",\n",
    "    \"redirect_uri\": redirect_uri\n",
    "}\n",
    "\n",
    "# Requisição para obter o access token e refresh token\n",
    "response = requests.post(token_url, data=token_data)\n",
    "oauth_tokens = response.json()\n",
    "\n",
    "# Verifica se o access token foi obtido com sucesso\n",
    "if \"access_token\" not in oauth_tokens:\n",
    "    print(\"Erro: token de acesso não obtido.\")\n",
    "    exit()\n",
    "\n",
    "# Exibe os tokens\n",
    "print(\"Access token:\", oauth_tokens[\"access_token\"])\n",
    "print(\"Access token expires in:\", oauth_tokens[\"expires_in\"])\n",
    "print(\"Refresh token:\", oauth_tokens[\"refresh_token\"])\n"
   ]
  },
  {
   "cell_type": "markdown",
   "metadata": {},
   "source": [
    "### Pegar Acess Token pelo Refresh Token"
   ]
  },
  {
   "cell_type": "code",
   "execution_count": null,
   "metadata": {},
   "outputs": [],
   "source": [
    "\n",
    "# Solicita os tokens de acesso e atualização\n",
    "token_url = \"https://login.microsoftonline.com/common/oauth2/v2.0/token\"\n",
    "scope = \"openid profile https://ads.microsoft.com/msads.manage offline_access\"\n",
    "\n",
    "Refresh_token = '",
    "client_id = Application_client_id\n",
    "client_secret = Client_secret_value\n",
    "\n",
    "# Para renovar o token de acesso usando o refresh token\n",
    "refresh_data = {\n",
    "    \"client_id\": client_id,\n",
    "    \"client_secret\": client_secret,\n",
    "    \"scope\": scope,\n",
    "    \"grant_type\": \"refresh_token\",\n",
    "    \"refresh_token\": Refresh_token\n",
    "}\n",
    "\n",
    "# Requisição para renovar o token de acesso\n",
    "refresh_response = requests.post(token_url, data=refresh_data)\n",
    "new_oauth_tokens = refresh_response.json()\n",
    "access_token = new_oauth_tokens['access_token']\n",
    "\n",
    "# Exibe os novos tokens\n",
    "print(\"Novo Access token:\", new_oauth_tokens[\"access_token\"])\n",
    "print(\"Access token expires in:\", new_oauth_tokens[\"expires_in\"])\n",
    "print(\"Novo Refresh token:\", new_oauth_tokens[\"refresh_token\"])"
   ]
  },
  {
   "cell_type": "markdown",
   "metadata": {},
   "source": [
    "### Dados de acesso - Requisição"
   ]
  },
  {
   "cell_type": "code",
   "execution_count": null,
   "metadata": {},
   "outputs": [],
   "source": [
    "AuthenticationToken = new_oauth_tokens[\"access_token\"]\n",
    "Accountid = ''\n",
    "CustomerAccountId = Accountid\n",
    "CustomerId = ''\n",
    "User_id = ''\n",
    "DeveloperToken = ''\n",
    "Refresh_token = new_oauth_tokens[\"refresh_token\"]"
   ]
  },
  {
   "cell_type": "markdown",
   "metadata": {},
   "source": [
    "### Pegando o UserIDs"
   ]
  },
  {
   "cell_type": "code",
   "execution_count": null,
   "metadata": {},
   "outputs": [],
   "source": [
    "\n",
    "# Montar a requisição SOAP\n",
    "soap_request = f'''<?xml version=\"1.0\" encoding=\"utf-8\"?>\n",
    "<s:Envelope xmlns:s=\"http://schemas.xmlsoap.org/soap/envelope/\">\n",
    "  <s:Header>\n",
    "    <h:ApplicationToken i:nil=\"true\" xmlns:h=\"https://bingads.microsoft.com/Customer/v13\" xmlns:i=\"http://www.w3.org/2001/XMLSchema-instance\" />\n",
    "    <h:AuthenticationToken xmlns:h=\"https://bingads.microsoft.com/Customer/v13\">{access_token}</h:AuthenticationToken>\n",
    "    <h:DeveloperToken xmlns:h=\"https://bingads.microsoft.com/Customer/v13\">{DeveloperToken}</h:DeveloperToken>\n",
    "  </s:Header>\n",
    "  <s:Body>\n",
    "    <SearchAccountsRequest xmlns=\"https://bingads.microsoft.com/Customer/v13\">\n",
    "      <Predicates xmlns:a=\"https://bingads.microsoft.com/Customer/v13/Entities\" xmlns:i=\"http://www.w3.org/2001/XMLSchema-instance\">\n",
    "        <a:Predicate>\n",
    "          <a:Field>UserId</a:Field>\n",
    "          <a:Operator>Equals</a:Operator>\n",
    "          <a:Value>{User_id}</a:Value>\n",
    "        </a:Predicate>\n",
    "      </Predicates>\n",
    "      <Ordering i:nil=\"true\" xmlns:a=\"https://bingads.microsoft.com/Customer/v13/Entities\" xmlns:i=\"http://www.w3.org/2001/XMLSchema-instance\" />\n",
    "      <PageInfo xmlns:a=\"https://bingads.microsoft.com/Customer/v13/Entities\" xmlns:i=\"http://www.w3.org/2001/XMLSchema-instance\">\n",
    "        <a:Index>0</a:Index>\n",
    "        <a:Size>10</a:Size>\n",
    "      </PageInfo>\n",
    "    </SearchAccountsRequest>\n",
    "  </s:Body>\n",
    "</s:Envelope>'''\n",
    "\n",
    "# Cabeçalhos da requisição\n",
    "headers = {\n",
    "    \"Content-Type\": \"text/xml; charset=utf-8\",\n",
    "    \"SOAPAction\": \"SearchAccounts\"\n",
    "}\n",
    "\n",
    "# URL do serviço SOAP\n",
    "url = \"https://clientcenter.api.bingads.microsoft.com/Api/CustomerManagement/v13/CustomerManagementService.svc\"\n",
    "\n",
    "# Enviando a requisição POST\n",
    "response = requests.post(url, data=soap_request, headers=headers)\n",
    "\n",
    "# Verificando o status da resposta\n",
    "if response.status_code == 200:\n",
    "    print(\"Requisição bem-sucedida!\")\n",
    "    print(\"Resposta:\")\n",
    "    print(response.text)  # Aqui você pega a resposta\n",
    "else:\n",
    "    print(f\"Erro na requisição: {response.status_code}\")\n",
    "    print(response.text)\n",
    "\n"
   ]
  },
  {
   "cell_type": "markdown",
   "metadata": {},
   "source": [
    "### Requisição"
   ]
  },
  {
   "cell_type": "code",
   "execution_count": null,
   "metadata": {},
   "outputs": [],
   "source": [
    "# URL do endpoint da API\n",
    "url = \"https://api.bingads.microsoft.com/CampaignManagement/v13\"\n",
    "\n",
    "# Cabeçalhos da requisição\n",
    "headers = {\n",
    "    'Content-Type': 'text/xml; charset=utf-8',\n",
    "    'SOAPAction': 'https://bingads.microsoft.com/CampaignManagement/v13/GetCampaignsByAccountId'\n",
    "}\n",
    "\n",
    "# Corpo da requisição SOAP\n",
    "body = f'''<?xml version=\"1.0\" encoding=\"utf-8\"?>\n",
    "<s:Envelope xmlns:i=\"http://www.w3.org/2001/XMLSchema-instance\" xmlns:s=\"http://schemas.xmlsoap.org/soap/envelope/\">\n",
    "  <s:Header xmlns=\"https://bingads.microsoft.com/CampaignManagement/v13\">\n",
    "    <Action mustUnderstand=\"1\">GetCampaignsByAccountId</Action>\n",
    "    <ApplicationToken i:nil=\"false\">ValueHere</ApplicationToken>\n",
    "    <AuthenticationToken i:nil=\"false\">{AuthenticationToken}</AuthenticationToken>\n",
    "    <CustomerAccountId i:nil=\"false\">{Accountid}</CustomerAccountId>\n",
    "    <CustomerId i:nil=\"false\">{CustomerId}</CustomerId>\n",
    "    <DeveloperToken i:nil=\"false\">{DeveloperToken}</DeveloperToken>\n",
    "  </s:Header>\n",
    "  <s:Body>\n",
    "    <GetCampaignsByAccountIdRequest xmlns=\"https://bingads.microsoft.com/CampaignManagement/v13\">\n",
    "      <AccountId>{Accountid}</AccountId>\n",
    "      <CampaignType>ValueHere</CampaignType>\n",
    "    </GetCampaignsByAccountIdRequest>\n",
    "  </s:Body>\n",
    "</s:Envelope>'''\n",
    "\n",
    "# Fazendo a requisição\n",
    "response = requests.post(url, headers=headers, data=body)\n",
    "\n",
    "# Exibindo a resposta\n",
    "print(response.status_code)\n",
    "print(response.text)"
   ]
  },
  {
   "cell_type": "code",
   "execution_count": null,
   "metadata": {},
   "outputs": [],
   "source": []
  }
 ],
 "metadata": {
  "kernelspec": {
   "display_name": "venv",
   "language": "python",
   "name": "python3"
  },
  "language_info": {
   "codemirror_mode": {
    "name": "ipython",
    "version": 3
   },
   "file_extension": ".py",
   "mimetype": "text/x-python",
   "name": "python",
   "nbconvert_exporter": "python",
   "pygments_lexer": "ipython3",
   "version": "3.12.4"
  }
 },
 "nbformat": 4,
 "nbformat_minor": 2
}
